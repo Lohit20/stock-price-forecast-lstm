{
 "cells": [
  {
   "cell_type": "code",
   "execution_count": 73,
   "id": "818c9d14",
   "metadata": {},
   "outputs": [],
   "source": [
    "import sqlite3\n",
    "import pandas as pd\n",
    "import csv\n",
    "from tabulate import tabulate"
   ]
  },
  {
   "cell_type": "markdown",
   "id": "67dfa35a",
   "metadata": {},
   "source": [
    "### Checking out the columns"
   ]
  },
  {
   "cell_type": "code",
   "execution_count": 50,
   "id": "222040b1",
   "metadata": {},
   "outputs": [
    {
     "data": {
      "text/plain": [
       "Index(['Symbol', 'Last Sale', 'Market Cap', 'Country', 'Sector', 'Industry'], dtype='object')"
      ]
     },
     "execution_count": 50,
     "metadata": {},
     "output_type": "execute_result"
    }
   ],
   "source": [
    "company=pd.read_csv(\"/Users/lohitashwa/Desktop/Task/clean_nasdaq_screener.csv\")\n",
    "company.columns"
   ]
  },
  {
   "cell_type": "code",
   "execution_count": 6,
   "id": "e33773fb",
   "metadata": {},
   "outputs": [
    {
     "data": {
      "text/plain": [
       "Index(['Date', 'Company Symbol', 'Accounts Payable', 'Capital Surplus',\n",
       "       'Cash and Cash Equivalents', 'Common Stocks', 'Deferred Asset Charges',\n",
       "       'Deferred Liability Charges', 'Fixed Assets', 'Goodwill',\n",
       "       'Intangible Assets', 'Inventory', 'Long-Term Debt',\n",
       "       'Long-Term Investments', 'Minority Interest', 'Misc. Stocks',\n",
       "       'Net Receivables', 'Other Assets', 'Other Current Assets',\n",
       "       'Other Current Liabilities', 'Other Equity', 'Other Liabilities',\n",
       "       'Retained Earnings',\n",
       "       'Short-Term Debt / Current Portion of Long-Term Debt',\n",
       "       'Short-Term Investments', 'Total Assets', 'Total Current Assets',\n",
       "       'Total Current Liabilities', 'Total Equity', 'Total Liabilities',\n",
       "       'Total Liabilities & Equity', 'Treasury Stock'],\n",
       "      dtype='object')"
      ]
     },
     "execution_count": 6,
     "metadata": {},
     "output_type": "execute_result"
    }
   ],
   "source": [
    "balance_s=pd.read_csv(\"/Users/lohitashwa/Desktop/Task/clean_balance_sheet.csv\")\n",
    "balance_s.columns"
   ]
  },
  {
   "cell_type": "code",
   "execution_count": 4,
   "id": "33ccd199",
   "metadata": {},
   "outputs": [
    {
     "data": {
      "text/plain": [
       "Index(['Date', 'Company Symbol', 'Add'l income/expense items',\n",
       "       'Cost of Revenue', 'Earnings Before Interest and Tax',\n",
       "       'Earnings Before Tax', 'Equity Earnings/Loss Unconsolidated Subsidiary',\n",
       "       'Gross Profit', 'Income Tax', 'Interest Expense', 'Minority Interest',\n",
       "       'Net Income', 'Net Income Applicable to Common Shareholders',\n",
       "       'Net Income-Cont. Operations', 'Non-Recurring Items',\n",
       "       'Operating Income', 'Other Operating Items', 'Research and Development',\n",
       "       'Sales, General and Admin.', 'Total Revenue'],\n",
       "      dtype='object')"
      ]
     },
     "execution_count": 4,
     "metadata": {},
     "output_type": "execute_result"
    }
   ],
   "source": [
    "income_s=pd.read_csv(\"/Users/lohitashwa/Desktop/Task/clean_income_statement.csv\")\n",
    "income_s.columns"
   ]
  },
  {
   "cell_type": "markdown",
   "id": "74e8aaf0",
   "metadata": {},
   "source": [
    "# SQL"
   ]
  },
  {
   "cell_type": "markdown",
   "id": "93ae5545",
   "metadata": {},
   "source": [
    "### connecting financial database financial "
   ]
  },
  {
   "cell_type": "code",
   "execution_count": 74,
   "id": "d92ceea9",
   "metadata": {},
   "outputs": [],
   "source": [
    "# Connect to an SQLite database\n",
    "connection = sqlite3.connect('/Users/lohitashwa/Desktop/Task/finance_data.db')"
   ]
  },
  {
   "cell_type": "code",
   "execution_count": 75,
   "id": "8645aa7f",
   "metadata": {},
   "outputs": [],
   "source": [
    "cursor = connection.cursor()"
   ]
  },
  {
   "cell_type": "markdown",
   "id": "4a8f0d61",
   "metadata": {},
   "source": [
    "### Create DB such as defining the structure of the table and defining relationship"
   ]
  },
  {
   "cell_type": "code",
   "execution_count": 76,
   "id": "aead34b2",
   "metadata": {},
   "outputs": [
    {
     "data": {
      "text/plain": [
       "<sqlite3.Cursor at 0x7fc4bd328570>"
      ]
     },
     "execution_count": 76,
     "metadata": {},
     "output_type": "execute_result"
    }
   ],
   "source": [
    "cursor.execute('''\n",
    "    CREATE TABLE IF NOT EXISTS company (\n",
    "        Company_Symbol TEXT PRIMARY KEY,\n",
    "        Last_Sale REAL,\n",
    "        Market_Cap REAL,\n",
    "        Country TEXT,\n",
    "        Sector TEXT,\n",
    "        Industry TEXT\n",
    "    )\n",
    "''')\n",
    "\n",
    "cursor.execute('''\n",
    "    CREATE TABLE IF NOT EXISTS balance_sheet (\n",
    "        id INTEGER PRIMARY KEY AUTOINCREMENT,\n",
    "        Date TEXT,\n",
    "        Company_Symbol TEXT,\n",
    "        Accounts_Payable REAL,\n",
    "        Capital_Surplus REAL,\n",
    "        Cash_and_Cash_Equivalents REAL,\n",
    "        Common_Stocks REAL,\n",
    "        Deferred_Asset_Charges REAL,\n",
    "        Deferred_Liability_Charges REAL,\n",
    "        Fixed_Assets REAL,\n",
    "        Goodwill REAL,\n",
    "        Intangible_Assets REAL,\n",
    "        Inventory REAL,\n",
    "        Long_Term_Debt REAL,\n",
    "        Long_Term_Investments REAL,\n",
    "        Minority_Interest REAL,\n",
    "        Misc_Stocks REAL,\n",
    "        Net_Receivables REAL,\n",
    "        Other_Assets REAL,\n",
    "        Other_Current_Assets REAL,\n",
    "        Other_Current_Liabilities REAL,\n",
    "        Other_Equity REAL,\n",
    "        Other_Liabilities REAL,\n",
    "        Retained_Earnings REAL,\n",
    "        Short_Term_Debt_Current_Portion_of_Long_Term_Debt REAL,\n",
    "        Short_Term_Investments REAL,\n",
    "        Total_Assets REAL,\n",
    "        Total_Current_Assets REAL,\n",
    "        Total_Current_Liabilities REAL,\n",
    "        Total_Equity REAL,\n",
    "        Total_Liabilities REAL,\n",
    "        Total_Liabilities_Equity REAL,\n",
    "        Treasury_Stock REAL,\n",
    "        FOREIGN KEY (Company_Symbol) REFERENCES company(Company_Symbol)\n",
    "    )\n",
    "''')\n",
    "\n",
    "\n",
    "cursor.execute('''\n",
    "    CREATE TABLE IF NOT EXISTS income_statement (\n",
    "        id INTEGER PRIMARY KEY AUTOINCREMENT,\n",
    "        Date TEXT,\n",
    "        Company_Symbol TEXT,\n",
    "        Addl_income_expense_items REAL,\n",
    "        Cost_of_Revenue REAL,\n",
    "        Earnings_Before_Interest_and_Tax REAL,\n",
    "        Earnings_Before_Tax REAL,\n",
    "        Equity_Earnings_Loss_Unconsolidated_Sub REAL,\n",
    "        Gross_Profit REAL,\n",
    "        Income_Tax REAL,\n",
    "        Interest_Expense REAL,\n",
    "        Minority_Interest REAL,\n",
    "        Net_Income REAL,\n",
    "        Net_Income_Applicable_to_Common_Shareholders REAL,\n",
    "        Net_Income_Cont_Operations REAL,\n",
    "        Non_Recurring_Items REAL,\n",
    "        Operating_Income REAL,\n",
    "        Other_Operating_Items REAL,\n",
    "        Research_and_Development REAL,\n",
    "        Sales_General_and_Admin REAL,\n",
    "        Total_Revenue REAL,\n",
    "        FOREIGN KEY (Company_Symbol) REFERENCES company(Company_Symbol)\n",
    "    )\n",
    "''')\n"
   ]
  },
  {
   "cell_type": "markdown",
   "id": "c8f9102f",
   "metadata": {},
   "source": [
    "### Generalized Function (insert_data_into_table) for inserting data into the table with respect to their csv "
   ]
  },
  {
   "cell_type": "code",
   "execution_count": 77,
   "id": "06b3fb62",
   "metadata": {},
   "outputs": [],
   "source": [
    "def insert_data_into_table(file_path, table_name, column_names, cursor):\n",
    "    connection = cursor.connection\n",
    "\n",
    "    with open(file_path, 'r') as csv_file:\n",
    "        csv_reader = csv.reader(csv_file)\n",
    "        # Skip the header row if it exists\n",
    "        next(csv_reader, None)\n",
    "        for row in csv_reader:\n",
    "            values = []\n",
    "            for i in range(len(column_names)):\n",
    "                if i == 1 or i == 2:\n",
    "                    values.append(float(row[i]) if row[i].replace('.', '', 1).isdigit() else row[i])\n",
    "                else:\n",
    "                    values.append(row[i])\n",
    "            placeholders = ', '.join(['?'] * len(column_names))\n",
    "            sql = \"INSERT INTO {} ({}) VALUES ({})\".format(table_name, ', '.join(column_names), placeholders)\n",
    "            cursor.execute(sql, values)"
   ]
  },
  {
   "cell_type": "code",
   "execution_count": 78,
   "id": "960361f6",
   "metadata": {},
   "outputs": [],
   "source": [
    "# 'company' table\n",
    "insert_data_into_table('/Users/lohitashwa/Desktop/Task/clean_nasdaq_screener.csv',\n",
    "                       'company',\n",
    "                       ['Company_Symbol', 'Last_Sale', 'Market_Cap', 'Country', 'Sector', 'Industry'],cursor)\n",
    "\n",
    "#'balance_sheet' table\n",
    "insert_data_into_table('/Users/lohitashwa/Desktop/Task/clean_balance_sheet.csv',\n",
    "                       'balance_sheet',\n",
    "                       ['Date', 'Company_Symbol', 'Accounts_Payable', 'Capital_Surplus', 'Cash_and_Cash_Equivalents', 'Common_Stocks', 'Deferred_Asset_Charges', 'Deferred_Liability_Charges', 'Fixed_Assets', 'Goodwill', 'Intangible_Assets', 'Inventory', 'Long_Term_Debt', 'Long_Term_Investments', 'Minority_Interest', 'Misc_Stocks', 'Net_Receivables', 'Other_Assets', 'Other_Current_Assets', 'Other_Current_Liabilities', 'Other_Equity', 'Other_Liabilities', 'Retained_Earnings', 'Short_Term_Debt_Current_Portion_of_Long_Term_Debt', 'Short_Term_Investments', 'Total_Assets', 'Total_Current_Assets', 'Total_Current_Liabilities', 'Total_Equity', 'Total_Liabilities', 'Total_Liabilities_Equity', 'Treasury_Stock'],cursor)\n",
    "\n",
    "\n",
    "# 'income_statement' table\n",
    "insert_data_into_table('/Users/lohitashwa/Desktop/Task/clean_income_statement.csv',\n",
    "                       'income_statement',\n",
    "                       ['Date', 'Company_Symbol', 'Addl_income_expense_items', 'Cost_of_Revenue', 'Earnings_Before_Interest_and_Tax', 'Earnings_Before_Tax', 'Equity_Earnings_Loss_Unconsolidated_Sub', 'Gross_Profit', 'Income_Tax', 'Interest_Expense', 'Minority_Interest', 'Net_Income', 'Net_Income_Applicable_to_Common_Shareholders', 'Net_Income_Cont_Operations', 'Non_Recurring_Items', 'Operating_Income', 'Other_Operating_Items', 'Research_and_Development', 'Sales_General_and_Admin', 'Total_Revenue'],cursor)\n"
   ]
  },
  {
   "cell_type": "code",
   "execution_count": 83,
   "id": "3e461619",
   "metadata": {},
   "outputs": [],
   "source": [
    "connection.commit()"
   ]
  },
  {
   "cell_type": "markdown",
   "id": "93b9e979",
   "metadata": {},
   "source": [
    "### Display Some Selected Queries to check that data has Been Inserted Correctly"
   ]
  },
  {
   "cell_type": "code",
   "execution_count": 79,
   "id": "9e82ee72",
   "metadata": {},
   "outputs": [
    {
     "name": "stdout",
     "output_type": "stream",
     "text": [
      "+------------------+-------------+--------------+---------------+------------------------+----------------------+\n",
      "| Company_Symbol   |   Last_Sale |   Market_Cap | Country       | Sector                 | Industry             |\n",
      "+==================+=============+==============+===============+========================+======================+\n",
      "| A                |      118.73 |  3.47389e+10 | United States | Industrials            | Electrical Products  |\n",
      "+------------------+-------------+--------------+---------------+------------------------+----------------------+\n",
      "| AA               |       30.29 |  5.40524e+09 | United States | Industrials            | Aluminum             |\n",
      "+------------------+-------------+--------------+---------------+------------------------+----------------------+\n",
      "| AAC              |       10.7  |  7.55466e+08 | United States | Industrials            | Metal Fabrications   |\n",
      "+------------------+-------------+--------------+---------------+------------------------+----------------------+\n",
      "| AACG             |        1.23 |  3.88953e+07 | China         | Consumer Discretionary | Educational Services |\n",
      "+------------------+-------------+--------------+---------------+------------------------+----------------------+\n",
      "| AACI             |       10.74 |  0           | United States | Finance                | Blank Checks         |\n",
      "+------------------+-------------+--------------+---------------+------------------------+----------------------+\n"
     ]
    }
   ],
   "source": [
    "\n",
    "cursor.execute(\"SELECT * FROM company\")\n",
    "\n",
    "# Fetch the first 5 rows\n",
    "rows = cursor.fetchmany(5)\n",
    "\n",
    "column_names = [description[0] for description in cursor.description]\n",
    "\n",
    "# results in a tabular format\n",
    "print(tabulate(rows, headers=column_names, tablefmt=\"grid\"))"
   ]
  },
  {
   "cell_type": "code",
   "execution_count": 80,
   "id": "ed8156d7",
   "metadata": {},
   "outputs": [
    {
     "name": "stdout",
     "output_type": "stream",
     "text": [
      "(1, '10/31/2022', 'A', 1364000.0, 324000.0, 1053000.0, 3000.0, 500654.57736081205, 545758.0158412796, 1100000.0, 3952000.0, 821000.0, 1038000.0, 2733000.0, 195000.0, 210414.1210582987, 539508.0319901569, 1405000.0, 686000.0, 282000.0, 461000.0, -347000.0, 633000.0, -2587713.1149230767, 36000.0, 981105.8143472907, 10532000.0, 3778000.0, 1861000.0, 5305000.0, 5227000.0, 10532000.0, 5325000.0)\n",
      "(2, '10/31/2022', 'AA', 2322000.0, -570000.0, 1631000.0, 2000.0, 296000.0, 215000.0, 6493000.0, 3952000.0, 821000.0, 2427000.0, 2832000.0, 1124000.0, 210414.1210582987, 1513000.0, 909000.0, 1593000.0, 417000.0, 481000.0, -3539000.0, 2116000.0, -2587713.1149230767, 201000.0, 981105.8143472907, 14756000.0, 5250000.0, 3004000.0, 5076000.0, 9680000.0, 14756000.0, 9183000.0)\n",
      "(3, '10/31/2022', 'AAC', 8176.0, -60959.0, 38.0, 3.0, 296000.0, 35000.0, 6493000.0, 3952000.0, 821000.0, 2427000.0, 2832000.0, 1013382.0, 1013282.0, 1513000.0, 909000.0, 1593000.0, 58.0, 481000.0, -3539000.0, 16476.0, -2587713.1149230767, 1500.0, 981105.8143472907, 1013478.0, 96.0, 9676.0, -60956.0, 61152.0, 1013478.0, 9183000.0)\n",
      "(4, '10/31/2022', 'AACG', 8042.0, -51505.0, 7909.0, 679.0, 296000.0, 2716.0, 10124.0, 28236.0, 10950.0, 2427000.0, 2832000.0, 5466.0, 1013282.0, 60.0, 842.0, 4088.0, 637.0, 34040.0, -5323.0, 2809.0, -1241.0, 1500.0, 981105.8143472907, 68252.0, 9388.0, 42082.0, 20585.0, 47667.0, 68252.0, 77975.0)\n",
      "(5, '10/31/2022', 'AACI', 3685.0, -4092.0, 178.0, 1.0, 296000.0, 2716.0, 10124.0, 28236.0, 10950.0, 2427000.0, 2832000.0, 150845.0, 150549.0, 60.0, 842.0, 4088.0, 62.0, 34040.0, -5323.0, 2809.0, -1241.0, 1500.0, 981105.8143472907, 151084.0, 240.0, 3685.0, -3149.0, 3685.0, 151084.0, 942.0)\n"
     ]
    }
   ],
   "source": [
    "cursor.execute(\"SELECT * FROM balance_sheet\")\n",
    "\n",
    "rows = cursor.fetchmany(5)\n",
    "\n",
    "for row in rows:\n",
    "    print(row)"
   ]
  },
  {
   "cell_type": "code",
   "execution_count": 81,
   "id": "6f2ed1f2",
   "metadata": {},
   "outputs": [
    {
     "name": "stdout",
     "output_type": "stream",
     "text": [
      "(1, '10/31/2022', 'A', -30000.0, 3126000.0, 1588000.0, 1504000.0, -21220.16151866152, 3722000.0, 250000.0, 84000.0, 86265.93497363797, 1254000.0, 1254000.0, 1254000.0, 221314.0407643312, 1618000.0, 508059.0050880626, 467000.0, 1637000.0, 6848000.0)\n",
      "(2, '10/31/2022', 'AA', 118000.0, 10212000.0, 808000.0, 702000.0, -161000.0, 2239000.0, 664000.0, 106000.0, 86265.93497363797, -123000.0, -123000.0, -123000.0, 696000.0, 690000.0, 617000.0, 32000.0, 204000.0, 12451000.0)\n",
      "(3, '10/31/2022', 'AAC', 28326.0, 3588572.0505489954, 20984.0, 20984.0, -21220.16151866152, 2163320.9701934466, 169064.9140401146, 165196.74118165785, 86265.93497363797, 20984.0, 20984.0, 20984.0, 221314.0407643312, -7343.0, 508059.0050880626, 309438.0238290879, 7343.0, 5448493.066715143)\n",
      "(4, '10/31/2022', 'AACG', 189.0, 15006.0, -7842.0, -7842.0, 101.0, 14745.0, -852.0, 165196.74118165785, 86265.93497363797, -6889.0, -6889.0, -6889.0, 221314.0407643312, -8140.0, 508059.0050880626, 977.0, 21908.0, 29751.0)\n",
      "(5, '10/31/2022', 'AACI', 1026.0, 3588572.0505489954, -3477.0, -3477.0, -21220.16151866152, 2163320.9701934466, 146.0, 165196.74118165785, 86265.93497363797, -3623.0, -3623.0, -3623.0, 4391.0, -4503.0, 508059.0050880626, 309438.0238290879, 112.0, 5448493.066715143)\n"
     ]
    }
   ],
   "source": [
    "cursor.execute(\"SELECT * FROM income_statement\")\n",
    "\n",
    "\n",
    "rows = cursor.fetchmany(5)\n",
    "\n",
    "# Display the results\n",
    "for row in rows:\n",
    "    print(row)\n"
   ]
  },
  {
   "cell_type": "code",
   "execution_count": 82,
   "id": "f0919794",
   "metadata": {},
   "outputs": [
    {
     "name": "stdout",
     "output_type": "stream",
     "text": [
      "+------------------+------------+\n",
      "| Company_Symbol   | Date       |\n",
      "+==================+============+\n",
      "| A                | 10/31/2022 |\n",
      "+------------------+------------+\n",
      "| AA               | 10/31/2022 |\n",
      "+------------------+------------+\n",
      "| AAC              | 10/31/2022 |\n",
      "+------------------+------------+\n",
      "| AACG             | 10/31/2022 |\n",
      "+------------------+------------+\n",
      "| AACI             | 10/31/2022 |\n",
      "+------------------+------------+\n"
     ]
    }
   ],
   "source": [
    "\n",
    "cursor.execute(\"SELECT Company_Symbol, Date FROM balance_sheet\")\n",
    "\n",
    "\n",
    "rows = cursor.fetchmany(5)\n",
    "\n",
    "\n",
    "column_names = [description[0] for description in cursor.description]\n",
    "\n",
    "\n",
    "table = tabulate(rows, headers=column_names, tablefmt=\"grid\")\n",
    "\n",
    "print(table)\n"
   ]
  },
  {
   "cell_type": "code",
   "execution_count": 84,
   "id": "38748bb6",
   "metadata": {},
   "outputs": [
    {
     "name": "stdout",
     "output_type": "stream",
     "text": [
      "+------------+------------------+-----------------------------+\n",
      "| Date       | Company_Symbol   |   Addl_income_expense_items |\n",
      "+============+==================+=============================+\n",
      "| 10/31/2022 | A                |                      -30000 |\n",
      "+------------+------------------+-----------------------------+\n",
      "| 10/31/2022 | AA               |                      118000 |\n",
      "+------------+------------------+-----------------------------+\n",
      "| 10/31/2022 | AAC              |                       28326 |\n",
      "+------------+------------------+-----------------------------+\n",
      "| 10/31/2022 | AACG             |                         189 |\n",
      "+------------+------------------+-----------------------------+\n",
      "| 10/31/2022 | AACI             |                        1026 |\n",
      "+------------+------------------+-----------------------------+\n"
     ]
    }
   ],
   "source": [
    "cursor.execute(\"SELECT Date, Company_Symbol, Addl_income_expense_items FROM income_statement\")\n",
    "\n",
    "rows = cursor.fetchmany(5)\n",
    "\n",
    "\n",
    "column_names = [description[0] for description in cursor.description]\n",
    "\n",
    "\n",
    "table = tabulate(rows, headers=column_names, tablefmt=\"grid\")\n",
    "\n",
    "print(table)\n"
   ]
  },
  {
   "cell_type": "markdown",
   "id": "8c23c6a0",
   "metadata": {},
   "source": [
    "### Aggregate Data:\n",
    "#### • Use GROUP BY to group data by one or more columns.\n",
    "#### • Apply aggregate functions like SUM, AVG, COUNT, etc., to calculate summary statistics.\n",
    "#### • Employ the HAVING clause to filter grouped data based on aggregate conditions."
   ]
  },
  {
   "cell_type": "code",
   "execution_count": 85,
   "id": "1f6da92d",
   "metadata": {},
   "outputs": [],
   "source": [
    "def display(cursor):\n",
    "    rows = cursor.fetchmany(5)\n",
    "\n",
    "\n",
    "    column_names = [description[0] for description in cursor.description]\n",
    "\n",
    "    table = tabulate(rows, headers=column_names, tablefmt=\"grid\")\n",
    "\n",
    "    print(table)"
   ]
  },
  {
   "cell_type": "markdown",
   "id": "233a8251",
   "metadata": {},
   "source": [
    "####  Calculate the average 'Market_Cap' for companies in each sector, including data from the 'company' and 'balance_sheet' tables using JOIN"
   ]
  },
  {
   "cell_type": "code",
   "execution_count": 96,
   "id": "6389f693",
   "metadata": {},
   "outputs": [
    {
     "name": "stdout",
     "output_type": "stream",
     "text": [
      "+--------------------+----------------------+\n",
      "| Sector             |   Average_Market_Cap |\n",
      "+====================+======================+\n",
      "| Utilities          |          1.16959e+10 |\n",
      "+--------------------+----------------------+\n",
      "| Telecommunications |          1.78864e+10 |\n",
      "+--------------------+----------------------+\n",
      "| Technology         |          2.32262e+10 |\n",
      "+--------------------+----------------------+\n",
      "| Real Estate        |          5.47569e+09 |\n",
      "+--------------------+----------------------+\n",
      "| Miscellaneous      |          1.8724e+09  |\n",
      "+--------------------+----------------------+\n"
     ]
    }
   ],
   "source": [
    "display(cursor.execute(\"SELECT c.Sector, AVG(c.Market_Cap) AS Average_Market_Cap FROM company c JOIN balance_sheet b ON c.Company_Symbol = b.Company_Symbol GROUP BY c.Sector order BY c.Sector DESC\"))\n"
   ]
  },
  {
   "cell_type": "markdown",
   "id": "3384ea9e",
   "metadata": {},
   "source": [
    "#### Calculate the total 'Total_Assets' for each country on different dates, including data from the 'balance_sheet' and 'company' tables using JOIN."
   ]
  },
  {
   "cell_type": "code",
   "execution_count": 97,
   "id": "5cc51c7b",
   "metadata": {},
   "outputs": [
    {
     "name": "stdout",
     "output_type": "stream",
     "text": [
      "+-----------+------------+----------------+\n",
      "| Country   | Date       |   Total_Assets |\n",
      "+===========+============+================+\n",
      "| Argentina | 10/31/2019 |    1.38344e+08 |\n",
      "+-----------+------------+----------------+\n",
      "| Argentina | 10/31/2020 |    1.18219e+08 |\n",
      "+-----------+------------+----------------+\n",
      "| Argentina | 10/31/2021 |    1.6673e+08  |\n",
      "+-----------+------------+----------------+\n",
      "| Argentina | 10/31/2022 |    1.17255e+08 |\n",
      "+-----------+------------+----------------+\n",
      "| Australia | 10/31/2019 |    3.08747e+08 |\n",
      "+-----------+------------+----------------+\n"
     ]
    }
   ],
   "source": [
    "display(cursor.execute(\"SELECT c.Country, b.Date, SUM(b.Total_Assets) AS Total_Assets FROM company c JOIN balance_sheet b ON c.Company_Symbol = b.Company_Symbol GROUP BY c.Country, b.Date\"))"
   ]
  },
  {
   "cell_type": "markdown",
   "id": "0b0824c7",
   "metadata": {},
   "source": [
    "#### groups the data by 'Country' and calculates the average 'Market_Cap' for companies in each country, providing insights into the distribution of market capitalization"
   ]
  },
  {
   "cell_type": "code",
   "execution_count": 87,
   "id": "48db5032",
   "metadata": {},
   "outputs": [
    {
     "name": "stdout",
     "output_type": "stream",
     "text": [
      "+-----------+----------------------+\n",
      "| Country   |   Average_Market_Cap |\n",
      "+===========+======================+\n",
      "| Argentina |          5.88885e+09 |\n",
      "+-----------+----------------------+\n",
      "| Australia |          2.17937e+10 |\n",
      "+-----------+----------------------+\n",
      "| Bahamas   |          1.1449e+09  |\n",
      "+-----------+----------------------+\n",
      "| Belgium   |          1.99807e+10 |\n",
      "+-----------+----------------------+\n",
      "| Bermuda   |          5.95644e+09 |\n",
      "+-----------+----------------------+\n"
     ]
    }
   ],
   "source": [
    "display(cursor.execute(\"SELECT Country, AVG(Market_Cap) AS Average_Market_Cap FROM company GROUP BY Country\"))\n"
   ]
  },
  {
   "cell_type": "markdown",
   "id": "40d6505a",
   "metadata": {},
   "source": [
    "#### groups the data by 'Sector' and calculates the total 'Net_Income' for companies in each sector, offering insights into the profitability of different business sectors."
   ]
  },
  {
   "cell_type": "code",
   "execution_count": 88,
   "id": "811df028",
   "metadata": {},
   "outputs": [
    {
     "name": "stdout",
     "output_type": "stream",
     "text": [
      "+------------------------+--------------------+\n",
      "| Sector                 |   Total_Net_Income |\n",
      "+========================+====================+\n",
      "| Basic Materials        |        2.40327e+08 |\n",
      "+------------------------+--------------------+\n",
      "| Consumer Discretionary |        1.26278e+09 |\n",
      "+------------------------+--------------------+\n",
      "| Consumer Staples       |        3.23335e+08 |\n",
      "+------------------------+--------------------+\n",
      "| Energy                 |        5.03302e+08 |\n",
      "+------------------------+--------------------+\n",
      "| Finance                |        2.59837e+09 |\n",
      "+------------------------+--------------------+\n"
     ]
    }
   ],
   "source": [
    "display(cursor.execute(\"SELECT Sector, SUM(Net_Income) AS Total_Net_Income FROM income_statement JOIN company ON income_statement.Company_Symbol = company.Company_Symbol GROUP BY Sector \"))"
   ]
  },
  {
   "cell_type": "markdown",
   "id": "b5a05da2",
   "metadata": {},
   "source": [
    "#### combines data from both the 'balance_sheet' and 'income_statement' tables, groups it by 'Date,' and counts the number of unique companies reporting financial data on each date, giving insights into data availability over time."
   ]
  },
  {
   "cell_type": "code",
   "execution_count": 89,
   "id": "f5dc6580",
   "metadata": {},
   "outputs": [
    {
     "name": "stdout",
     "output_type": "stream",
     "text": [
      "+------------+-----------------+\n",
      "| Date       |   Company_Count |\n",
      "+============+=================+\n",
      "| 10/31/2019 |            6503 |\n",
      "+------------+-----------------+\n",
      "| 10/31/2020 |            6503 |\n",
      "+------------+-----------------+\n",
      "| 10/31/2021 |            6503 |\n",
      "+------------+-----------------+\n",
      "| 10/31/2022 |            6503 |\n",
      "+------------+-----------------+\n"
     ]
    }
   ],
   "source": [
    "display(cursor.execute(\"SELECT Date, COUNT(DISTINCT Company_Symbol) AS Company_Count FROM (SELECT Date, Company_Symbol FROM balance_sheet UNION SELECT Date, Company_Symbol FROM income_statement) AS combined_data GROUP BY Date\"))"
   ]
  },
  {
   "cell_type": "markdown",
   "id": "2522b471",
   "metadata": {},
   "source": [
    "#### Select Data:\n",
    "#### • Use SELECT statements to retrieve specific columns and rows.\n",
    "#### • Apply WHERE clauses to filter data based on specified conditions.\n",
    "#### • Use ORDER BY to sort data.\n",
    "#### • Utilize TOP to limit the number of rows returned (this depends on the database system being used)."
   ]
  },
  {
   "cell_type": "markdown",
   "id": "160256d2",
   "metadata": {},
   "source": [
    "#### This query utilizes a subquery to find the companies with the highest net income, and then it joins the result with the 'company' table to filter for companies in the Technology sector. This provides insights into the most profitable technology companies and the dates on which they achieved their highest net income."
   ]
  },
  {
   "cell_type": "code",
   "execution_count": 90,
   "id": "d5b638d5",
   "metadata": {},
   "outputs": [
    {
     "name": "stdout",
     "output_type": "stream",
     "text": [
      "+------------------+------------+------------------+\n",
      "| Company_Symbol   | Date       |       Net_Income |\n",
      "+==================+============+==================+\n",
      "| AAPL             | 10/31/2022 |      9.9803e+07  |\n",
      "+------------------+------------+------------------+\n",
      "| ACIW             | 10/31/2022 | 142177           |\n",
      "+------------------+------------+------------------+\n",
      "| ACLS             | 10/31/2022 | 183079           |\n",
      "+------------------+------------+------------------+\n",
      "| ACMR             | 10/31/2022 |  39263           |\n",
      "+------------------+------------+------------------+\n",
      "| ADI              | 10/31/2022 |      2.74856e+06 |\n",
      "+------------------+------------+------------------+\n"
     ]
    }
   ],
   "source": [
    "display(cursor.execute(\"SELECT c.Company_Symbol, i.Date, i.Net_Income FROM income_statement i JOIN (SELECT Company_Symbol, MAX(Net_Income) AS Max_Net_Income FROM income_statement GROUP BY Company_Symbol )AS max_income ON i.Company_Symbol = max_income.Company_Symbol AND i.Net_Income = max_income.Max_Net_Income JOIN company c ON i.Company_Symbol = c.Company_Symbol WHERE c.Sector = 'Technology'\"))"
   ]
  },
  {
   "cell_type": "markdown",
   "id": "d528010d",
   "metadata": {},
   "source": [
    "#### This query uses a subquery to find the latest date for each company in the 'balance_sheet' table. It then calculates the ratio of 'Total_Assets' to 'Market_Cap' and identifies the companies with the highest ratios. This query provides insights into companies with strong asset backing relative to their market capitalization."
   ]
  },
  {
   "cell_type": "code",
   "execution_count": 91,
   "id": "9293fad6",
   "metadata": {},
   "outputs": [
    {
     "name": "stdout",
     "output_type": "stream",
     "text": [
      "+------------------+----------------------------+\n",
      "| Company_Symbol   |   Asset_to_MarketCap_Ratio |\n",
      "+==================+============================+\n",
      "| CTBB             |                1.57708e+06 |\n",
      "+------------------+----------------------------+\n",
      "| QVCC             |                1.12764e+06 |\n",
      "+------------------+----------------------------+\n",
      "| VIEWW            |               14.3141      |\n",
      "+------------------+----------------------------+\n",
      "| HCDIZ            |               14.2802      |\n",
      "+------------------+----------------------------+\n",
      "| HCDIW            |                8.44898     |\n",
      "+------------------+----------------------------+\n"
     ]
    }
   ],
   "source": [
    "display(cursor.execute(\"SELECT c.Company_Symbol, (b.Total_Assets / c.Market_Cap) AS Asset_to_MarketCap_Ratio FROM company c JOIN balance_sheet b ON c.Company_Symbol = b.Company_Symbol WHERE b.Date = (SELECT MAX(Date) FROM balance_sheet WHERE Company_Symbol = c.Company_Symbol)ORDER BY Asset_to_MarketCap_Ratio DESC LIMIT 10 \"))"
   ]
  },
  {
   "cell_type": "markdown",
   "id": "e896ba64",
   "metadata": {},
   "source": [
    "#### This query applies a WHERE clause to filter companies with 'Total_Assets' within the specified range, offering insights into companies with moderate asset levels."
   ]
  },
  {
   "cell_type": "code",
   "execution_count": 92,
   "id": "7100c703",
   "metadata": {},
   "outputs": [
    {
     "name": "stdout",
     "output_type": "stream",
     "text": [
      "+------------+----------------+\n",
      "| Date       |   Total_Assets |\n",
      "+============+================+\n",
      "| 10/31/2022 |    3.05138e+09 |\n",
      "+------------+----------------+\n",
      "| 10/31/2022 |    1.82084e+09 |\n",
      "+------------+----------------+\n",
      "| 10/31/2022 |    2.41668e+09 |\n",
      "+------------+----------------+\n",
      "| 10/31/2022 |    1.43463e+09 |\n",
      "+------------+----------------+\n",
      "| 10/31/2022 |    1.4418e+09  |\n",
      "+------------+----------------+\n"
     ]
    }
   ],
   "source": [
    "display(cursor.execute(\"SELECT Date, Total_Assets FROM balance_sheet WHERE Total_Assets BETWEEN 1000000000 AND 10000000000 \"))"
   ]
  },
  {
   "cell_type": "code",
   "execution_count": null,
   "id": "f3dec216",
   "metadata": {},
   "outputs": [],
   "source": []
  }
 ],
 "metadata": {
  "kernelspec": {
   "display_name": "Python 3 (ipykernel)",
   "language": "python",
   "name": "python3"
  },
  "language_info": {
   "codemirror_mode": {
    "name": "ipython",
    "version": 3
   },
   "file_extension": ".py",
   "mimetype": "text/x-python",
   "name": "python",
   "nbconvert_exporter": "python",
   "pygments_lexer": "ipython3",
   "version": "3.9.7"
  }
 },
 "nbformat": 4,
 "nbformat_minor": 5
}
